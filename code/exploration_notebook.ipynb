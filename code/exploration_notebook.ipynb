{
 "cells": [
  {
   "cell_type": "markdown",
   "id": "5cffcf16-bbcb-4377-b4d4-4895f10f4892",
   "metadata": {},
   "source": [
    "# CSCI 1470/2470 Final Project, Fall 2022\n",
    "## Bitao Jin, James Ro, Christopher Tripp"
   ]
  },
  {
   "cell_type": "code",
   "execution_count": null,
   "id": "3d28f504-be92-4fdf-8e5a-ec3e7c6d21db",
   "metadata": {},
   "outputs": [],
   "source": [
    "import os\n",
    "import sys\n",
    "import h5py  # To interface with the HDF5 binary data format.\n",
    "import numpy as np\n",
    "import tensorflow as tf\n",
    "import matplotlib.pyplot as plt"
   ]
  },
  {
   "cell_type": "code",
   "execution_count": null,
   "id": "3dfac647-c1f5-4c21-9fbf-668c2f869c63",
   "metadata": {},
   "outputs": [],
   "source": [
    "#import conv_model"
   ]
  },
  {
   "cell_type": "markdown",
   "id": "fc6f6727-0b8d-4c84-b660-5f605d47b21a",
   "metadata": {},
   "source": [
    "### Data Preprocessing and Exploration"
   ]
  },
  {
   "cell_type": "code",
   "execution_count": null,
   "id": "1186662f-0b4e-4930-bcf3-eb002a80082b",
   "metadata": {},
   "outputs": [],
   "source": [
    "# Local path to the data.\n",
    "data_path = \"../data/Galaxy10_DECals.h5\"\n",
    "\n",
    "# Get the images and labels from file.\n",
    "with h5py.File(data_path, 'r') as F:\n",
    "    images = np.array(F['images'])\n",
    "    labels = np.array(F['ans'])"
   ]
  },
  {
   "cell_type": "code",
   "execution_count": null,
   "id": "b25be09f-9903-41b1-9985-d26ec2e4179a",
   "metadata": {},
   "outputs": [],
   "source": [
    "# Get the class numbers and the number of examples for each class.\n",
    "class_ids, class_counts = np.unique(labels, return_counts=True)\n",
    "\n",
    "class_names = [\n",
    "    \"Disturbed Galaxies\",\n",
    "    \"Merging Galaxies\",\n",
    "    \"Round Smooth Galaxies\",\n",
    "    \"In-between Round Smooth Galaxies\",\n",
    "    \"Cigar Shaped Smooth Galaxies\",\n",
    "    \"Barred Spiral Galaxies\",\n",
    "    \"Unbarred Tight Spiral Galaxies\",\n",
    "    \"Unbarred Loose Spiral Galaxies\",\n",
    "    \"Edge-on Galaxie without Bulge\",\n",
    "    \"Edge-on Galaxies with Bulge\"]"
   ]
  },
  {
   "cell_type": "code",
   "execution_count": null,
   "id": "28ac70c5-00b1-4454-9ed7-7d64495459d4",
   "metadata": {},
   "outputs": [],
   "source": [
    "# Convert the labels to categorical 10 classes.\n",
    "#labels = tf.keras.utils.to_categorical(labels, 10)\n",
    "\n",
    "# Convert the data to floats.\n",
    "labels = labels.astype(np.float32)\n",
    "images = images.astype(np.float32)"
   ]
  },
  {
   "cell_type": "code",
   "execution_count": null,
   "id": "32448f86-640c-4599-ae4c-e4bc12a8f00c",
   "metadata": {},
   "outputs": [],
   "source": [
    "print(f\"Images shape is {images.shape}\")\n",
    "print(f\"Labels shape is {labels.shape}\")"
   ]
  },
  {
   "cell_type": "markdown",
   "id": "74c1b727-23dc-4a84-a55c-faf598fa452e",
   "metadata": {},
   "source": [
    "Images are 256 x 256 RGB files."
   ]
  },
  {
   "cell_type": "code",
   "execution_count": null,
   "id": "83cc3664-5844-4261-b033-900cddb5e745",
   "metadata": {},
   "outputs": [],
   "source": [
    "# Print some information about the data set.\n",
    "print(f\"TOTAL NUMBER OF EXAMPLES: {images.shape[0]}\")\n",
    "for class_id, class_count in enumerate(class_counts):\n",
    "    print(f\"Class {class_id} ({class_names[class_id]}) \" \\\n",
    "          f\"has {class_count} examples.\")"
   ]
  },
  {
   "cell_type": "markdown",
   "id": "a63c6989-09f0-4469-9b5d-4b4b1de68f4c",
   "metadata": {},
   "source": [
    "Next let's display one image from each class, just to make sure the data looks ok."
   ]
  },
  {
   "cell_type": "code",
   "execution_count": null,
   "id": "ffdf4983-f9d1-43d0-a417-a91be48518d5",
   "metadata": {},
   "outputs": [],
   "source": [
    "# Get indices of first image for each class.\n",
    "first_img_indices = []\n",
    "for i in range(0, 10):\n",
    "    this_class_starting_index = np.where(labels == i)[0][0]\n",
    "    first_img_indices.append(this_class_starting_index)\n",
    "\n",
    "# Plot the corresponding images.\n",
    "fig, ax = plt.subplots(1, 10)\n",
    "fig.set_size_inches(12, 1.2)\n",
    "for i, each_image in enumerate(first_img_indices):\n",
    "    ax[i].imshow(images[each_image].astype('uint8'))\n",
    "    ax[i].tick_params(left=False)\n",
    "    ax[i].tick_params(bottom=False)\n",
    "    ax[i].tick_params(labelleft=False)\n",
    "    ax[i].tick_params(labelbottom=False)\n",
    "    ax[i].set_xlabel(f\"Class {i}\")\n",
    "fig.suptitle(\"Example images from each class.\")\n",
    "plt.show()"
   ]
  },
  {
   "cell_type": "markdown",
   "id": "db425435-a2e4-4ddc-8325-1e09f2480bdb",
   "metadata": {},
   "source": [
    "## Creating the CNN Model"
   ]
  },
  {
   "cell_type": "code",
   "execution_count": null,
   "id": "a1dd54c5-5b5a-46c5-b55b-6b98f6e50221",
   "metadata": {},
   "outputs": [],
   "source": [
    "import galaxy_project"
   ]
  },
  {
   "cell_type": "code",
   "execution_count": null,
   "id": "5fbdf149-cf3c-4177-a62e-83dbd0b6f2a4",
   "metadata": {},
   "outputs": [],
   "source": [
    "galaxy_project.run_cnn_model(images, labels)"
   ]
  },
  {
   "cell_type": "code",
   "execution_count": null,
   "id": "4b85c096-aea4-4585-88af-eb3cce2d179d",
   "metadata": {},
   "outputs": [],
   "source": []
  }
 ],
 "metadata": {
  "kernelspec": {
   "display_name": "Python [conda env:dl3]",
   "language": "python",
   "name": "conda-env-dl3-py"
  },
  "language_info": {
   "codemirror_mode": {
    "name": "ipython",
    "version": 3
   },
   "file_extension": ".py",
   "mimetype": "text/x-python",
   "name": "python",
   "nbconvert_exporter": "python",
   "pygments_lexer": "ipython3",
   "version": "3.9.13"
  }
 },
 "nbformat": 4,
 "nbformat_minor": 5
}
